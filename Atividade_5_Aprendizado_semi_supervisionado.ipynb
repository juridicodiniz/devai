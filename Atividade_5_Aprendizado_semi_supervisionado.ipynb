{
  "nbformat": 4,
  "nbformat_minor": 0,
  "metadata": {
    "colab": {
      "provenance": [],
      "gpuType": "T4",
      "authorship_tag": "ABX9TyPqBElP/1cRbW9zwjQOuRoP",
      "include_colab_link": true
    },
    "kernelspec": {
      "name": "python3",
      "display_name": "Python 3"
    },
    "language_info": {
      "name": "python"
    },
    "accelerator": "GPU"
  },
  "cells": [
    {
      "cell_type": "markdown",
      "metadata": {
        "id": "view-in-github",
        "colab_type": "text"
      },
      "source": [
        "<a href=\"https://colab.research.google.com/github/juridicodiniz/devai/blob/main/Atividade_5_Aprendizado_semi_supervisionado.ipynb\" target=\"_parent\"><img src=\"https://colab.research.google.com/assets/colab-badge.svg\" alt=\"Open In Colab\"/></a>"
      ]
    },
    {
      "cell_type": "markdown",
      "source": [
        "**Aprendizado semi-supervisionado**\n",
        "\n",
        "Usando o notebook em postre/aula9a_aprendizado_semi_supervisionado.ipynb at main · fboldt/postre (github.com) como inspiração, use outro algoritmo de agrupamento (clusterização), que não seja o KMeans, para escolher exemplos representativos da base mnist e para propagar os rótulos desses exemplos.\n",
        "\n",
        "Compare o resultado do score de uma Regressão Logística com o dataset completo e com algumas amostras aleatórias."
      ],
      "metadata": {
        "id": "nDb51D7WIyLG"
      }
    },
    {
      "cell_type": "code",
      "execution_count": 1,
      "metadata": {
        "colab": {
          "base_uri": "https://localhost:8080/"
        },
        "id": "Rxa4wrb6IVN1",
        "outputId": "f4bcc7f4-ad34-4cab-80d9-07b32a230c2e"
      },
      "outputs": [
        {
          "output_type": "stream",
          "name": "stdout",
          "text": [
            "Downloading data from https://storage.googleapis.com/tensorflow/tf-keras-datasets/mnist.npz\n",
            "11490434/11490434 [==============================] - 2s 0us/step\n",
            "X_train: (60000, 784)\n",
            "Y_train: (60000,)\n",
            "X_test:  (10000, 784)\n",
            "Y_test:  (10000,)\n"
          ]
        }
      ],
      "source": [
        "from keras.datasets import mnist\n",
        "import numpy as np\n",
        "\n",
        "from sklearn.datasets import fetch_openml\n",
        "import matplotlib.pyplot as plt\n",
        "\n",
        "\n",
        "\n",
        "# Carregando o conjunto de dados MNIST\n",
        "(X_train, y_train), (X_test, y_test) = mnist.load_data()\n",
        "\n",
        "# Convertendo imagens 28x28 para vetores de 784 elementos\n",
        "X_train = X_train.reshape(X_train.shape[0], -1).astype(np.float32)\n",
        "X_test = X_test.reshape(X_test.shape[0], -1).astype(np.float32)\n",
        "\n",
        "# Normalizando os dados\n",
        "X_train /= 255.0\n",
        "\n",
        "\n",
        "print('X_train: ' + str(X_train.shape))\n",
        "print('Y_train: ' + str(y_train.shape))\n",
        "print('X_test:  '  + str(X_test.shape))\n",
        "print('Y_test:  '  + str(y_test.shape))"
      ]
    },
    {
      "cell_type": "code",
      "source": [
        "#Usando a regressão logistica\n",
        "from sklearn.linear_model import LogisticRegression\n",
        "\n",
        "#Supondo 50 y, que serão os 50  primerios\n",
        "n_labeled = 50\n",
        "\n",
        "#Interação maxima de 10 mil\n",
        "log_reg = LogisticRegression(max_iter=10_000)\n",
        "\n",
        "#Terinando a regressão Logistica\n",
        "log_reg.fit(X_train[:n_labeled], y_train[:n_labeled])"
      ],
      "metadata": {
        "colab": {
          "base_uri": "https://localhost:8080/",
          "height": 75
        },
        "id": "yK3DoxcVSEFN",
        "outputId": "baabb817-f1fb-40ca-d07d-b9b564c1e9aa"
      },
      "execution_count": 2,
      "outputs": [
        {
          "output_type": "execute_result",
          "data": {
            "text/plain": [
              "LogisticRegression(max_iter=10000)"
            ],
            "text/html": [
              "<style>#sk-container-id-1 {color: black;background-color: white;}#sk-container-id-1 pre{padding: 0;}#sk-container-id-1 div.sk-toggleable {background-color: white;}#sk-container-id-1 label.sk-toggleable__label {cursor: pointer;display: block;width: 100%;margin-bottom: 0;padding: 0.3em;box-sizing: border-box;text-align: center;}#sk-container-id-1 label.sk-toggleable__label-arrow:before {content: \"▸\";float: left;margin-right: 0.25em;color: #696969;}#sk-container-id-1 label.sk-toggleable__label-arrow:hover:before {color: black;}#sk-container-id-1 div.sk-estimator:hover label.sk-toggleable__label-arrow:before {color: black;}#sk-container-id-1 div.sk-toggleable__content {max-height: 0;max-width: 0;overflow: hidden;text-align: left;background-color: #f0f8ff;}#sk-container-id-1 div.sk-toggleable__content pre {margin: 0.2em;color: black;border-radius: 0.25em;background-color: #f0f8ff;}#sk-container-id-1 input.sk-toggleable__control:checked~div.sk-toggleable__content {max-height: 200px;max-width: 100%;overflow: auto;}#sk-container-id-1 input.sk-toggleable__control:checked~label.sk-toggleable__label-arrow:before {content: \"▾\";}#sk-container-id-1 div.sk-estimator input.sk-toggleable__control:checked~label.sk-toggleable__label {background-color: #d4ebff;}#sk-container-id-1 div.sk-label input.sk-toggleable__control:checked~label.sk-toggleable__label {background-color: #d4ebff;}#sk-container-id-1 input.sk-hidden--visually {border: 0;clip: rect(1px 1px 1px 1px);clip: rect(1px, 1px, 1px, 1px);height: 1px;margin: -1px;overflow: hidden;padding: 0;position: absolute;width: 1px;}#sk-container-id-1 div.sk-estimator {font-family: monospace;background-color: #f0f8ff;border: 1px dotted black;border-radius: 0.25em;box-sizing: border-box;margin-bottom: 0.5em;}#sk-container-id-1 div.sk-estimator:hover {background-color: #d4ebff;}#sk-container-id-1 div.sk-parallel-item::after {content: \"\";width: 100%;border-bottom: 1px solid gray;flex-grow: 1;}#sk-container-id-1 div.sk-label:hover label.sk-toggleable__label {background-color: #d4ebff;}#sk-container-id-1 div.sk-serial::before {content: \"\";position: absolute;border-left: 1px solid gray;box-sizing: border-box;top: 0;bottom: 0;left: 50%;z-index: 0;}#sk-container-id-1 div.sk-serial {display: flex;flex-direction: column;align-items: center;background-color: white;padding-right: 0.2em;padding-left: 0.2em;position: relative;}#sk-container-id-1 div.sk-item {position: relative;z-index: 1;}#sk-container-id-1 div.sk-parallel {display: flex;align-items: stretch;justify-content: center;background-color: white;position: relative;}#sk-container-id-1 div.sk-item::before, #sk-container-id-1 div.sk-parallel-item::before {content: \"\";position: absolute;border-left: 1px solid gray;box-sizing: border-box;top: 0;bottom: 0;left: 50%;z-index: -1;}#sk-container-id-1 div.sk-parallel-item {display: flex;flex-direction: column;z-index: 1;position: relative;background-color: white;}#sk-container-id-1 div.sk-parallel-item:first-child::after {align-self: flex-end;width: 50%;}#sk-container-id-1 div.sk-parallel-item:last-child::after {align-self: flex-start;width: 50%;}#sk-container-id-1 div.sk-parallel-item:only-child::after {width: 0;}#sk-container-id-1 div.sk-dashed-wrapped {border: 1px dashed gray;margin: 0 0.4em 0.5em 0.4em;box-sizing: border-box;padding-bottom: 0.4em;background-color: white;}#sk-container-id-1 div.sk-label label {font-family: monospace;font-weight: bold;display: inline-block;line-height: 1.2em;}#sk-container-id-1 div.sk-label-container {text-align: center;}#sk-container-id-1 div.sk-container {/* jupyter's `normalize.less` sets `[hidden] { display: none; }` but bootstrap.min.css set `[hidden] { display: none !important; }` so we also need the `!important` here to be able to override the default hidden behavior on the sphinx rendered scikit-learn.org. See: https://github.com/scikit-learn/scikit-learn/issues/21755 */display: inline-block !important;position: relative;}#sk-container-id-1 div.sk-text-repr-fallback {display: none;}</style><div id=\"sk-container-id-1\" class=\"sk-top-container\"><div class=\"sk-text-repr-fallback\"><pre>LogisticRegression(max_iter=10000)</pre><b>In a Jupyter environment, please rerun this cell to show the HTML representation or trust the notebook. <br />On GitHub, the HTML representation is unable to render, please try loading this page with nbviewer.org.</b></div><div class=\"sk-container\" hidden><div class=\"sk-item\"><div class=\"sk-estimator sk-toggleable\"><input class=\"sk-toggleable__control sk-hidden--visually\" id=\"sk-estimator-id-1\" type=\"checkbox\" checked><label for=\"sk-estimator-id-1\" class=\"sk-toggleable__label sk-toggleable__label-arrow\">LogisticRegression</label><div class=\"sk-toggleable__content\"><pre>LogisticRegression(max_iter=10000)</pre></div></div></div></div></div>"
            ]
          },
          "metadata": {},
          "execution_count": 2
        }
      ]
    },
    {
      "cell_type": "code",
      "source": [
        "log_reg.score(X_test, y_test)"
      ],
      "metadata": {
        "colab": {
          "base_uri": "https://localhost:8080/"
        },
        "id": "ONgMhwXxbOKH",
        "outputId": "fdd15682-3334-4707-bfca-b9d1ac534eae"
      },
      "execution_count": 3,
      "outputs": [
        {
          "output_type": "execute_result",
          "data": {
            "text/plain": [
              "0.493"
            ]
          },
          "metadata": {},
          "execution_count": 3
        }
      ]
    },
    {
      "cell_type": "code",
      "source": [
        "#Usando o DBSCAN para agrupar e formar os clusters ******************************************\n",
        "from sklearn.cluster import DBSCAN\n",
        "from sklearn.decomposition import PCA\n",
        "\n",
        "# Reduzindo a dimensionalidade com PCA para acelerar o DBSCAN\n",
        "#usando 50 clustes\n",
        "k = 50\n",
        "pca = PCA(n_components=k)\n",
        "X_pca = pca.fit_transform(X_train)\n",
        "\n",
        "\n",
        "# Aplicando o DBSCAN\n",
        "dbscan = DBSCAN(eps=5, min_samples=5)\n",
        "labels = dbscan.fit_predict(X_pca)\n",
        "\n",
        "X_mnist_dist = dbscan.fit_predict(X_pca)\n",
        "\n",
        "#Pegando o indice dos que estão mais proximos do centro\n",
        "representative_mnist_idx = X_mnist_dist.argmin(axis=0)\n",
        "\n",
        "#Pegando os elementos dos indices dos que estão mais proximos do centro\n",
        "X_representative_mnist = X_train[representative_mnist_idx]\n"
      ],
      "metadata": {
        "id": "-YlQ7BKRcNII"
      },
      "execution_count": 4,
      "outputs": []
    },
    {
      "cell_type": "code",
      "source": [
        "# Visualizando alguns exemplos representativos de cada cluster com DBSCAN\n",
        "unique_labels = set(labels)\n",
        "representative_samples = []\n",
        "\n",
        "for label in unique_labels:\n",
        "    cluster_samples = X_pca[labels == label]\n",
        "    representative_samples.append(cluster_samples[0])  # Escolhendo o primeiro exemplo de cada cluster\n",
        "print(representative_samples)"
      ],
      "metadata": {
        "colab": {
          "base_uri": "https://localhost:8080/"
        },
        "id": "xZLwSegddspp",
        "outputId": "fdecef46-3eef-45c9-ccfb-058caf7b7457"
      },
      "execution_count": 5,
      "outputs": [
        {
          "output_type": "stream",
          "name": "stdout",
          "text": [
            "[array([ 0.48594412, -1.2262338 , -0.09616432, -2.1794274 , -0.10709976,\n",
            "       -0.91166735,  0.91762316,  0.6267464 , -1.4256616 ,  0.7781802 ,\n",
            "        0.7745256 , -0.99639654, -0.4449332 ,  2.938374  ,  0.8599027 ,\n",
            "       -0.01846454,  1.2947291 ,  1.2124268 ,  1.0886215 ,  0.6523089 ,\n",
            "        0.10797346, -0.2523429 , -0.8516908 ,  0.9813607 ,  0.18109855,\n",
            "        0.39338428, -1.2078079 ,  0.6669989 , -0.49216872, -0.48350343,\n",
            "       -0.38451922,  0.13461949,  0.42194164,  0.3325395 , -0.5980506 ,\n",
            "        0.78566885,  0.24960995,  0.7851004 ,  0.6135905 , -1.4137497 ,\n",
            "        0.7311605 ,  0.5958584 , -0.15913379, -0.342273  , -0.47050828,\n",
            "        0.04193472,  0.4791633 , -0.2720622 ,  0.199026  , -0.37880555],\n",
            "      dtype=float32), array([ 1.5399216 ,  0.2837511 , -0.79433423,  0.7463034 ,  2.0303388 ,\n",
            "       -1.18871   ,  1.7684039 , -0.7749004 ,  3.6898832 ,  1.744925  ,\n",
            "        1.8745075 , -0.34054053, -0.04909857,  1.0707121 ,  0.6915199 ,\n",
            "        1.0304608 ,  1.5076292 , -0.5443073 ,  1.553108  ,  1.0164614 ,\n",
            "       -2.0747075 ,  0.12850903,  1.3036485 ,  0.7062066 ,  0.37621143,\n",
            "       -1.6018522 , -1.0235456 , -1.0643814 , -0.73873997,  0.12184354,\n",
            "        0.7083555 ,  0.1293177 , -0.29810008, -0.84141   , -1.2971208 ,\n",
            "       -0.36030638,  1.2623875 ,  0.13007265,  0.67366815, -0.043584  ,\n",
            "        0.5849754 ,  0.28233638,  0.0700189 ,  0.22028981,  1.2428097 ,\n",
            "       -0.65310854,  0.7432471 , -0.83488524, -0.43443626, -0.565325  ],\n",
            "      dtype=float32), array([ 2.614481  , -0.9718419 ,  0.7583942 , -1.3318714 , -2.3431807 ,\n",
            "        1.0475352 ,  1.6564717 ,  0.9655663 , -0.6295075 ,  1.81735   ,\n",
            "       -0.13017604, -0.98236275,  0.1737153 ,  1.6530392 ,  0.5877483 ,\n",
            "       -0.09318621,  1.340386  ,  2.0010133 ,  0.31499967,  0.21120822,\n",
            "        0.39989465, -0.21219262,  1.7464936 , -0.12628421,  1.1906993 ,\n",
            "        0.6162542 ,  0.13974905,  0.10140809, -0.19618283,  0.8421456 ,\n",
            "        0.40122268,  0.8907358 ,  1.2710638 ,  1.3719766 ,  0.11563753,\n",
            "       -0.14003511, -0.58879393,  0.8378342 , -0.20726645, -0.3243994 ,\n",
            "       -0.16795692,  0.17911284,  0.28896078,  0.7789456 , -0.86833036,\n",
            "       -1.0523912 ,  0.5803388 ,  0.2839455 ,  0.18237261,  0.87087834],\n",
            "      dtype=float32), array([ 1.3865741 ,  0.5265708 , -1.7281734 ,  2.592069  ,  1.1965582 ,\n",
            "       -1.0022732 ,  1.3687997 , -2.7589076 ,  2.7325172 , -1.0953975 ,\n",
            "        1.5551183 ,  0.64808434,  0.47529963,  0.23569675, -0.05646718,\n",
            "       -0.6156057 , -0.5296986 , -1.101858  ,  0.46460837,  0.14806148,\n",
            "        0.86254543,  2.0449455 ,  0.36684763, -0.12011808,  0.5154638 ,\n",
            "       -1.4060318 , -2.620551  ,  0.15697463,  1.2806058 , -0.48697317,\n",
            "       -0.338973  , -0.16976346,  1.0868074 ,  0.27630654, -0.5025731 ,\n",
            "        0.17787069, -0.80560017,  0.17144042, -0.28756252, -0.30209103,\n",
            "        0.08001152, -0.46241376, -0.27254522,  0.40570548,  0.6873227 ,\n",
            "       -1.3163946 ,  0.08255599, -0.1979089 , -0.22959286, -0.24047   ],\n",
            "      dtype=float32), array([ 1.4077114 ,  0.83571327, -1.1671736 , -1.181624  ,  0.33062947,\n",
            "        2.6843324 ,  3.6175258 ,  1.3992398 , -0.37098962, -0.4698642 ,\n",
            "        2.6396568 , -2.0867386 , -0.3258661 , -0.83369946, -0.56772566,\n",
            "        1.6430846 , -0.727486  ,  0.5313921 , -0.5164    , -0.08886925,\n",
            "        0.16006985, -0.9458193 ,  1.9558803 , -0.5385566 ,  1.5114957 ,\n",
            "        0.5712521 ,  0.16496499,  1.9994909 ,  0.62058675, -1.6419109 ,\n",
            "        0.12813959,  0.1605977 ,  0.03581185,  0.41937086, -0.13371587,\n",
            "        0.44804743, -0.8072623 ,  1.099418  , -0.8595577 ,  0.17335913,\n",
            "       -0.45299056, -0.47111145,  1.3134344 ,  0.6619829 ,  0.01463289,\n",
            "       -0.8970003 , -0.5720463 ,  0.2545939 ,  0.07309214, -0.28918925],\n",
            "      dtype=float32)]\n"
          ]
        }
      ]
    }
  ]
}